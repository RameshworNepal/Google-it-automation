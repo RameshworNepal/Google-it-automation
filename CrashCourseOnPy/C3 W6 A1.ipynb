{
 "cells": [
  {
   "cell_type": "code",
   "execution_count": 1,
   "metadata": {},
   "outputs": [
    {
     "name": "stdout",
     "output_type": "stream",
     "text": [
      "Enter location: http://py4e-data.dr-chuck.net/comments_42.json\n",
      "Retrieving http://py4e-data.dr-chuck.net/comments_42.json\n",
      "Retrieved 2711 characters\n",
      "Count: 50\n",
      "Sum: 2553\n"
     ]
    }
   ],
   "source": [
    "import urllib.request, urllib.parse, urllib.error\n",
    "import json\n",
    "\n",
    "#Data collection\n",
    "link = input('Enter location: ')  #http://py4e-data.dr-chuck.net/comments_42.json\n",
    "print('Retrieving', link)\n",
    "\n",
    "html = urllib.request.urlopen(link).read().decode()\n",
    "print('Retrieved', len(html), 'characters')\n",
    "\n",
    "try:\n",
    "    js = json.loads(html)\n",
    "except:\n",
    "    js = None\n",
    "\n",
    "cn = 0\n",
    "sm = 0\n",
    "for item in js['comments']:\n",
    "    cn += 1\n",
    "    sm += int(item['count'])\n",
    "\n",
    "print('Count:', cn)\n",
    "print('Sum:', sm)"
   ]
  },
  {
   "cell_type": "code",
   "execution_count": 2,
   "metadata": {},
   "outputs": [
    {
     "name": "stdout",
     "output_type": "stream",
     "text": [
      "Enter location: http://py4e-data.dr-chuck.net/comments_337420.json\n",
      "Retrieving http://py4e-data.dr-chuck.net/comments_337420.json\n",
      "Retrieved 2721 characters\n",
      "Count: 50\n",
      "Sum: 2634\n"
     ]
    }
   ],
   "source": [
    "import urllib.request, urllib.parse, urllib.error\n",
    "import json\n",
    "\n",
    "#Data collection\n",
    "link = input('Enter location: ') #http://py4e-data.dr-chuck.net/comments_337420.json\n",
    "print('Retrieving', link)\n",
    "\n",
    "html = urllib.request.urlopen(link).read().decode()\n",
    "print('Retrieved', len(html), 'characters')\n",
    "\n",
    "try:\n",
    "    js = json.loads(html)\n",
    "except:\n",
    "    js = None\n",
    "\n",
    "cn = 0\n",
    "sm = 0\n",
    "for item in js['comments']:\n",
    "    cn += 1\n",
    "    sm += int(item['count'])\n",
    "\n",
    "print('Count:', cn)\n",
    "print('Sum:', sm)"
   ]
  },
  {
   "cell_type": "code",
   "execution_count": null,
   "metadata": {},
   "outputs": [],
   "source": []
  }
 ],
 "metadata": {
  "kernelspec": {
   "display_name": "Python 3",
   "language": "python",
   "name": "python3"
  },
  "language_info": {
   "codemirror_mode": {
    "name": "ipython",
    "version": 3
   },
   "file_extension": ".py",
   "mimetype": "text/x-python",
   "name": "python",
   "nbconvert_exporter": "python",
   "pygments_lexer": "ipython3",
   "version": "3.7.1"
  }
 },
 "nbformat": 4,
 "nbformat_minor": 2
}
