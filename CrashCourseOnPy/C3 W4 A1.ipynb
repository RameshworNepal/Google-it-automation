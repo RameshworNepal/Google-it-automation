{
 "cells": [
  {
   "cell_type": "code",
   "execution_count": 5,
   "metadata": {},
   "outputs": [
    {
     "name": "stdout",
     "output_type": "stream",
     "text": [
      "Enter - http://py4e-data.dr-chuck.net/comments_337417.html\n",
      "Count 50\n",
      "Sum 2774\n"
     ]
    }
   ],
   "source": [
    "import urllib.request, urllib.parse, urllib.error\n",
    "from bs4 import BeautifulSoup\n",
    "import ssl\n",
    "\n",
    "#Get SSL Certification Error handeling\n",
    "ctx = ssl.create_default_context()\n",
    "ctx.check_hostname = False\n",
    "ctx.verify_mode = ssl.CERT_NONE\n",
    "\n",
    "#Data Collect From the Website\n",
    "link = input('Enter - ')   #http://py4e-data.dr-chuck.net/comments_42.html\n",
    "#link = open('http://py4e-data.dr-chuck.net/comments_337417.html')\n",
    "html = urllib.request.urlopen(link, context = ctx).read()\n",
    "soup = BeautifulSoup(html, 'html.parser')\n",
    "\n",
    "\n",
    "#Data Scraping\n",
    "tags = soup('span')\n",
    "sm = 0\n",
    "cn = 0\n",
    "for tag in tags:\n",
    "    cn += 1\n",
    "    sm += int(tag.contents[0])\n",
    "\n",
    "print('Count %d' % cn)\n",
    "print('Sum %d' % sm)\n"
   ]
  },
  {
   "cell_type": "code",
   "execution_count": null,
   "metadata": {},
   "outputs": [],
   "source": []
  },
  {
   "cell_type": "code",
   "execution_count": null,
   "metadata": {},
   "outputs": [],
   "source": []
  }
 ],
 "metadata": {
  "kernelspec": {
   "display_name": "Python 3",
   "language": "python",
   "name": "python3"
  },
  "language_info": {
   "codemirror_mode": {
    "name": "ipython",
    "version": 3
   },
   "file_extension": ".py",
   "mimetype": "text/x-python",
   "name": "python",
   "nbconvert_exporter": "python",
   "pygments_lexer": "ipython3",
   "version": "3.7.1"
  }
 },
 "nbformat": 4,
 "nbformat_minor": 2
}
