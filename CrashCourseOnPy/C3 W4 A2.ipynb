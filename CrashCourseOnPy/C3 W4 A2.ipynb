{
 "cells": [
  {
   "cell_type": "code",
   "execution_count": 12,
   "metadata": {},
   "outputs": [
    {
     "name": "stdout",
     "output_type": "stream",
     "text": [
      "Enter URL: http://py4e-data.dr-chuck.net/known_by_Coleen.html\n",
      "Enter count: 7\n",
      "Enter position: 18\n",
      "Retrieving: http://py4e-data.dr-chuck.net/known_by_Coleen.html\n",
      "Retrieving: http://py4e-data.dr-chuck.net/known_by_Siyona.html\n",
      "Retrieving: http://py4e-data.dr-chuck.net/known_by_Kinnon.html\n",
      "Retrieving: http://py4e-data.dr-chuck.net/known_by_Kyral.html\n",
      "Retrieving: http://py4e-data.dr-chuck.net/known_by_Georgy.html\n",
      "Retrieving: http://py4e-data.dr-chuck.net/known_by_Aiyanna.html\n",
      "Retrieving: http://py4e-data.dr-chuck.net/known_by_Breeanna.html\n",
      "Retrieving: http://py4e-data.dr-chuck.net/known_by_Jeremy.html\n"
     ]
    }
   ],
   "source": [
    "import urllib.request, urllib.parse, urllib.error\n",
    "from bs4 import BeautifulSoup\n",
    "import ssl\n",
    "\n",
    "#SSL Certification Error Handle\n",
    "ctx = ssl.create_default_context()\n",
    "ctx.check_hostname = False\n",
    "ctx.verify_mode = ssl.CERT_NONE\n",
    "\n",
    "#Data Collection \n",
    "link = input('Enter URL: ')   #http://py4e-data.dr-chuck.net/known_by_Coleen.html comment_42\n",
    "cont = int(input('Enter count: '))  #7\n",
    "line = int(input('Enter position: '))  #18\n",
    "\n",
    "\n",
    "\n",
    "print('Retrieving: %s' % link)\n",
    "for i in range(0, cont):\n",
    "    html = urllib.request.urlopen(link, context=ctx).read()\n",
    "    soup = BeautifulSoup(html, 'html.parser')\n",
    "    \n",
    "    tags = soup('a')\n",
    "    cn = 0\n",
    "    ps = 0\n",
    "    for tag in tags:\n",
    "        ps += 1\n",
    "        if ps == line:\n",
    "            print('Retrieving: %s' % str(tag.get('href', None)))\n",
    "            link = str(tag.get('href', None))\n",
    "            ps = 0\n",
    "            break"
   ]
  },
  {
   "cell_type": "code",
   "execution_count": 13,
   "metadata": {},
   "outputs": [
    {
     "name": "stdout",
     "output_type": "stream",
     "text": [
      "Enter URL: http://py4e-data.dr-chuck.net/known_by_Fikret.html\n",
      "Enter count: 4\n",
      "Enter position: 3\n",
      "Retrieving: http://py4e-data.dr-chuck.net/known_by_Fikret.html\n",
      "Retrieving: http://py4e-data.dr-chuck.net/known_by_Montgomery.html\n",
      "Retrieving: http://py4e-data.dr-chuck.net/known_by_Mhairade.html\n",
      "Retrieving: http://py4e-data.dr-chuck.net/known_by_Butchi.html\n",
      "Retrieving: http://py4e-data.dr-chuck.net/known_by_Anayah.html\n"
     ]
    }
   ],
   "source": [
    "import urllib.request, urllib.parse, urllib.error\n",
    "from bs4 import BeautifulSoup\n",
    "import ssl\n",
    "\n",
    "#SSL Certification Error Handle\n",
    "ctx = ssl.create_default_context()\n",
    "ctx.check_hostname = False\n",
    "ctx.verify_mode = ssl.CERT_NONE\n",
    "\n",
    "#Data Collection\n",
    "link = input('Enter URL: ')  #http://py4e-data.dr-chuck.net/known_by_Fikret.html\n",
    "cont = int(input('Enter count: '))  # 4\n",
    "line = int(input('Enter position: '))  #3\n",
    "\n",
    "\n",
    "\n",
    "print('Retrieving: %s' % link)\n",
    "for i in range(0, cont):\n",
    "    html = urllib.request.urlopen(link, context=ctx).read()\n",
    "    soup = BeautifulSoup(html, 'html.parser')\n",
    "    \n",
    "    tags = soup('a')\n",
    "    cn = 0\n",
    "    ps = 0\n",
    "    for tag in tags:\n",
    "        ps += 1\n",
    "        if ps == line:\n",
    "            print('Retrieving: %s' % str(tag.get('href', None)))\n",
    "            link = str(tag.get('href', None))\n",
    "            ps = 0\n",
    "            break"
   ]
  },
  {
   "cell_type": "code",
   "execution_count": null,
   "metadata": {},
   "outputs": [],
   "source": []
  }
 ],
 "metadata": {
  "kernelspec": {
   "display_name": "Python 3",
   "language": "python",
   "name": "python3"
  },
  "language_info": {
   "codemirror_mode": {
    "name": "ipython",
    "version": 3
   },
   "file_extension": ".py",
   "mimetype": "text/x-python",
   "name": "python",
   "nbconvert_exporter": "python",
   "pygments_lexer": "ipython3",
   "version": "3.7.1"
  }
 },
 "nbformat": 4,
 "nbformat_minor": 2
}
