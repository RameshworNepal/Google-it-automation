{
 "cells": [
  {
   "cell_type": "code",
   "execution_count": 1,
   "metadata": {},
   "outputs": [
    {
     "name": "stdout",
     "output_type": "stream",
     "text": [
      "Enter location: http://py4e-data.dr-chuck.net/comments_42.xml\n",
      "Retrieving http://py4e-data.dr-chuck.net/comments_42.xml\n",
      "Retrieved 4189 characters\n",
      "Count: 50\n",
      "Sum: 2553\n"
     ]
    }
   ],
   "source": [
    "import urllib.request, urllib.parse, urllib.error\n",
    "import xml.etree.ElementTree as ET\n",
    "\n",
    "link = input('Enter location: ')  #http://py4e-data.dr-chuck.net/comments_42.xml\n",
    "html = urllib.request.urlopen(link).read().decode()\n",
    "print('Retrieving', link)\n",
    "print('Retrieved', len(html), 'characters')\n",
    "\n",
    "\n",
    "#data calculation\n",
    "cn = 0\n",
    "sm = 0\n",
    "data = ET.fromstring(html)\n",
    "tags = data.findall('comments/comment')\n",
    "\n",
    "for tag in tags:\n",
    "    cn += 1\n",
    "    sm += int(tag.find('count').text)\n",
    "\n",
    "print('Count:', cn)\n",
    "print('Sum:', sm)"
   ]
  },
  {
   "cell_type": "code",
   "execution_count": 2,
   "metadata": {},
   "outputs": [
    {
     "name": "stdout",
     "output_type": "stream",
     "text": [
      "Enter location: http://py4e-data.dr-chuck.net/comments_337419.xml\n",
      "Retrieving http://py4e-data.dr-chuck.net/comments_337419.xml\n",
      "Retrieved 4212 characters\n",
      "Count: 50\n",
      "Sum: 2759\n"
     ]
    }
   ],
   "source": [
    "import urllib.request, urllib.parse, urllib.error\n",
    "import xml.etree.ElementTree as ET\n",
    "\n",
    "link = input('Enter location: ')  #http://py4e-data.dr-chuck.net/comments_337419.xml\n",
    "html = urllib.request.urlopen(link).read().decode()\n",
    "print('Retrieving', link)\n",
    "print('Retrieved', len(html), 'characters')\n",
    "\n",
    "\n",
    "#data calculation\n",
    "cn = 0\n",
    "sm = 0\n",
    "data = ET.fromstring(html)\n",
    "tags = data.findall('comments/comment')\n",
    "\n",
    "for tag in tags:\n",
    "    cn += 1\n",
    "    sm += int(tag.find('count').text)\n",
    "\n",
    "print('Count:', cn)\n",
    "print('Sum:', sm)"
   ]
  },
  {
   "cell_type": "code",
   "execution_count": null,
   "metadata": {},
   "outputs": [],
   "source": []
  }
 ],
 "metadata": {
  "kernelspec": {
   "display_name": "Python 3",
   "language": "python",
   "name": "python3"
  },
  "language_info": {
   "codemirror_mode": {
    "name": "ipython",
    "version": 3
   },
   "file_extension": ".py",
   "mimetype": "text/x-python",
   "name": "python",
   "nbconvert_exporter": "python",
   "pygments_lexer": "ipython3",
   "version": "3.7.1"
  }
 },
 "nbformat": 4,
 "nbformat_minor": 2
}
